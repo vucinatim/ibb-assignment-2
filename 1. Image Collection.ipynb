{
 "cells": [
  {
   "cell_type": "markdown",
   "metadata": {},
   "source": [
    "# 1. Import Dependencies"
   ]
  },
  {
   "cell_type": "code",
   "execution_count": 1,
   "metadata": {},
   "outputs": [
    {
     "name": "stdout",
     "output_type": "stream",
     "text": [
      "Requirement already satisfied: opencv-python in d:\\fri\\masters\\sb\\assigment 2\\tfodcourse\\sb\\lib\\site-packages (4.5.4.60)\n",
      "Requirement already satisfied: numpy>=1.19.3 in d:\\fri\\masters\\sb\\assigment 2\\tfodcourse\\sb\\lib\\site-packages (from opencv-python) (1.21.4)\n"
     ]
    }
   ],
   "source": [
    "!pip install opencv-python"
   ]
  },
  {
   "cell_type": "code",
   "execution_count": 1,
   "metadata": {},
   "outputs": [],
   "source": [
    "# Import opencv\n",
    "import cv2 \n",
    "\n",
    "# Import uuid\n",
    "import uuid\n",
    "\n",
    "# Import Operating System\n",
    "import os\n",
    "\n",
    "# Import time\n",
    "import time"
   ]
  },
  {
   "cell_type": "markdown",
   "metadata": {},
   "source": [
    "# 2. Define Images to Collect"
   ]
  },
  {
   "cell_type": "code",
   "execution_count": 2,
   "metadata": {},
   "outputs": [],
   "source": [
    "labels = ['thumbsup', 'thumbsdown', 'heart', 'fuckyou']\n",
    "number_imgs = 5"
   ]
  },
  {
   "cell_type": "markdown",
   "metadata": {},
   "source": [
    "# 3. Setup Folders "
   ]
  },
  {
   "cell_type": "code",
   "execution_count": 3,
   "metadata": {},
   "outputs": [],
   "source": [
    "IMAGES_PATH = os.path.join('Tensorflow', 'workspace', 'images', 'collectedimages')"
   ]
  },
  {
   "cell_type": "code",
   "execution_count": 5,
   "metadata": {},
   "outputs": [],
   "source": [
    "if not os.path.exists(IMAGES_PATH):\n",
    "    if os.name == 'posix':\n",
    "        !mkdir -p {IMAGES_PATH}\n",
    "    if os.name == 'nt':\n",
    "         !mkdir {IMAGES_PATH}\n",
    "for label in labels:\n",
    "    path = os.path.join(IMAGES_PATH, label)\n",
    "    if not os.path.exists(path):\n",
    "        !mkdir {path}"
   ]
  },
  {
   "cell_type": "markdown",
   "metadata": {},
   "source": [
    "# 4. Capture Images"
   ]
  },
  {
   "cell_type": "code",
   "execution_count": 4,
   "metadata": {},
   "outputs": [],
   "source": [
    "import numpy as np\n",
    "\n",
    "cur_label_idx = 0\n",
    "cur_image_num = 0\n",
    "\n",
    "# SET THE COUNTDOWN TIMER\n",
    "# for simplicity we set it to 3\n",
    "# We can also take this as input\n",
    "TIMER = int(3)\n",
    "  \n",
    "# Open the camera\n",
    "cap = cv2.VideoCapture(0)\n",
    "width = int(cap.get(cv2.CAP_PROP_FRAME_WIDTH))\n",
    "height = int(cap.get(cv2.CAP_PROP_FRAME_HEIGHT))\n",
    "\n",
    "flash = np.full((int(height), int(width)), 255, np.uint8)\n",
    "font = cv2.FONT_HERSHEY_SIMPLEX\n",
    "  \n",
    "while True:\n",
    "    if cur_label_idx >= len(labels):\n",
    "        break\n",
    "    cur_label = labels[cur_label_idx]\n",
    "\n",
    "    # Read and display each frame\n",
    "    ret, img = cap.read()\n",
    "    cv2.putText(img, str(f\"{cur_label}: image {cur_image_num}/{number_imgs}\"),\n",
    "                        (80, 20), font,\n",
    "                        0.6, (200, 30, 40),\n",
    "                        2, cv2.LINE_AA)\n",
    "    cv2.imshow('a', img)\n",
    " \n",
    "    # if 'q' is pressed begin countdown\n",
    "    k = cv2.waitKey(125)\n",
    "    if k == ord('q'):\n",
    "        prev = time.time()\n",
    " \n",
    "        while TIMER >= 0:\n",
    "            ret, img = cap.read()\n",
    " \n",
    "            # Display countdown on each frame\n",
    "            cv2.putText(img, str(TIMER),\n",
    "                        (10, 60), font,\n",
    "                        2, (250, 30, 40),\n",
    "                        4, cv2.LINE_AA)\n",
    "            cv2.putText(img, str(f\"{cur_label}: image {cur_image_num}/{number_imgs}\"),\n",
    "                        (80, 20), font,\n",
    "                        0.6, (200, 30, 40),\n",
    "                        2, cv2.LINE_AA)\n",
    "            cv2.imshow('a', img)\n",
    "            cv2.waitKey(125)\n",
    " \n",
    "            cur = time.time()\n",
    "            if cur-prev >= 1:\n",
    "                prev = cur\n",
    "                TIMER = TIMER-1\n",
    " \n",
    "        else:\n",
    "            cv2.imshow('a', flash)\n",
    "            cv2.waitKey(200)\n",
    "\n",
    "            ret, img = cap.read()\n",
    "            imgname = os.path.join(IMAGES_PATH, cur_label, cur_label+'.'+'{}.jpg'.format(str(uuid.uuid1())))\n",
    "            cv2.imwrite(imgname, img)\n",
    "            cv2.imshow('a', img)\n",
    "            cv2.waitKey(1000)\n",
    "\n",
    "            TIMER=int(3)\n",
    "            if cur_image_num >= number_imgs:\n",
    "                cur_label_idx += 1\n",
    "                cur_image_num = 0\n",
    "            else:\n",
    "                cur_image_num += 1\n",
    " \n",
    "    # Press Esc to exit\n",
    "    elif k == 27:\n",
    "        break\n",
    " \n",
    "# close the camera and windows\n",
    "cap.release()\n",
    "cv2.destroyAllWindows()"
   ]
  },
  {
   "cell_type": "code",
   "execution_count": null,
   "metadata": {},
   "outputs": [],
   "source": [
    "for label in labels:\n",
    "    cap = cv2.VideoCapture(0) # Captures image from webcam\n",
    "    print('Collecting images for {}'.format(label))\n",
    "    time.sleep(5)\n",
    "    for imgnum in range(number_imgs):\n",
    "        print('Collecting image {}'.format(imgnum))\n",
    "        ret, frame = cap.read()\n",
    "        imgname = os.path.join(IMAGES_PATH,label,label+'.'+'{}.jpg'.format(str(uuid.uuid1())))\n",
    "        cv2.imwrite(imgname, frame)\n",
    "        cv2.imshow('frame', frame)\n",
    "        time.sleep(2)\n",
    "\n",
    "        if cv2.waitKey(1) & 0xFF == ord('q'):\n",
    "            break\n",
    "cap.release()\n",
    "cv2.destroyAllWindows()"
   ]
  },
  {
   "cell_type": "code",
   "execution_count": 9,
   "metadata": {},
   "outputs": [
    {
     "name": "stdout",
     "output_type": "stream",
     "text": [
      "Collecting image for fuckyou\n"
     ]
    }
   ],
   "source": [
    "# Recapture specific image if needed\n",
    "label = 'fuckyou' # ['thumbsup', 'thumbsdown', 'heart', 'fuckyou']\n",
    "\n",
    "cap = cv2.VideoCapture(0)\n",
    "print('Collecting image for {}'.format(label))\n",
    "time.sleep(5)\n",
    "ret, frame = cap.read()\n",
    "imgname = os.path.join(IMAGES_PATH,label,label+'.'+'{}.jpg'.format(str(uuid.uuid1())))\n",
    "cv2.imwrite(imgname, frame)\n",
    "cv2.imshow('frame', frame)\n",
    "\n",
    "cap.release()\n",
    "cv2.destroyAllWindows()"
   ]
  },
  {
   "cell_type": "markdown",
   "metadata": {},
   "source": [
    "# 5. Image Labelling"
   ]
  },
  {
   "cell_type": "code",
   "execution_count": 10,
   "metadata": {},
   "outputs": [
    {
     "name": "stdout",
     "output_type": "stream",
     "text": [
      "Collecting pyqt5\n",
      "  Downloading PyQt5-5.15.6-cp36-abi3-win_amd64.whl (6.7 MB)\n",
      "Collecting lxml\n",
      "  Downloading lxml-4.6.4-cp39-cp39-win_amd64.whl (3.5 MB)\n",
      "Collecting PyQt5-Qt5>=5.15.2\n",
      "  Downloading PyQt5_Qt5-5.15.2-py3-none-win_amd64.whl (50.1 MB)\n",
      "Collecting PyQt5-sip<13,>=12.8\n",
      "  Downloading PyQt5_sip-12.9.0-cp39-cp39-win_amd64.whl (63 kB)\n",
      "Installing collected packages: PyQt5-sip, PyQt5-Qt5, pyqt5, lxml\n",
      "Successfully installed PyQt5-Qt5-5.15.2 PyQt5-sip-12.9.0 lxml-4.6.4 pyqt5-5.15.6\n"
     ]
    }
   ],
   "source": [
    "!pip install --upgrade pyqt5 lxml"
   ]
  },
  {
   "cell_type": "code",
   "execution_count": 5,
   "metadata": {},
   "outputs": [],
   "source": [
    "LABELIMG_PATH = os.path.join('Tensorflow', 'labelimg')"
   ]
  },
  {
   "cell_type": "code",
   "execution_count": 12,
   "metadata": {},
   "outputs": [
    {
     "name": "stderr",
     "output_type": "stream",
     "text": [
      "Cloning into 'Tensorflow\\labelimg'...\n"
     ]
    }
   ],
   "source": [
    "if not os.path.exists(LABELIMG_PATH):\n",
    "    !mkdir {LABELIMG_PATH}\n",
    "    !git clone https://github.com/tzutalin/labelImg {LABELIMG_PATH}"
   ]
  },
  {
   "cell_type": "code",
   "execution_count": 13,
   "metadata": {},
   "outputs": [],
   "source": [
    "if os.name == 'posix':\n",
    "    !cd {LABELIMG_PATH} qt5py3\n",
    "if os.name =='nt':\n",
    "    !cd {LABELIMG_PATH} && pyrcc5 -o libs/resources.py resources.qrc"
   ]
  },
  {
   "cell_type": "code",
   "execution_count": 6,
   "metadata": {},
   "outputs": [
    {
     "name": "stdout",
     "output_type": "stream",
     "text": [
      "Image:D:\\FRI\\Masters\\SB\\Assigment 2\\TFODCourse\\Tensorflow\\workspace\\images\\collectedimages\\fuckyou\\fuckyou.0aafc139-56a4-11ec-a30e-98bb1e1d6e16.jpg -> Annotation:D:/FRI/Masters/SB/Assigment 2/TFODCourse/Tensorflow/workspace/images/collectedimages/fuckyou/fuckyou.0aafc139-56a4-11ec-a30e-98bb1e1d6e16.xml\n",
      "Image:D:\\FRI\\Masters\\SB\\Assigment 2\\TFODCourse\\Tensorflow\\workspace\\images\\collectedimages\\fuckyou\\fuckyou.2b82588d-56a2-11ec-bebc-98bb1e1d6e16.jpg -> Annotation:D:/FRI/Masters/SB/Assigment 2/TFODCourse/Tensorflow/workspace/images/collectedimages/fuckyou/fuckyou.2b82588d-56a2-11ec-bebc-98bb1e1d6e16.xml\n",
      "Image:D:\\FRI\\Masters\\SB\\Assigment 2\\TFODCourse\\Tensorflow\\workspace\\images\\collectedimages\\fuckyou\\fuckyou.3df60f3d-56a2-11ec-83cc-98bb1e1d6e16.jpg -> Annotation:D:/FRI/Masters/SB/Assigment 2/TFODCourse/Tensorflow/workspace/images/collectedimages/fuckyou/fuckyou.3df60f3d-56a2-11ec-83cc-98bb1e1d6e16.xml\n",
      "Image:D:\\FRI\\Masters\\SB\\Assigment 2\\TFODCourse\\Tensorflow\\workspace\\images\\collectedimages\\fuckyou\\fuckyou.4da9d21e-56a2-11ec-99c3-98bb1e1d6e16.jpg -> Annotation:D:/FRI/Masters/SB/Assigment 2/TFODCourse/Tensorflow/workspace/images/collectedimages/fuckyou/fuckyou.4da9d21e-56a2-11ec-99c3-98bb1e1d6e16.xml\n",
      "Image:D:\\FRI\\Masters\\SB\\Assigment 2\\TFODCourse\\Tensorflow\\workspace\\images\\collectedimages\\fuckyou\\fuckyou.16d51e11-56a4-11ec-8734-98bb1e1d6e16.jpg -> Annotation:D:/FRI/Masters/SB/Assigment 2/TFODCourse/Tensorflow/workspace/images/collectedimages/fuckyou/fuckyou.16d51e11-56a4-11ec-8734-98bb1e1d6e16.xml\n",
      "Image:D:\\FRI\\Masters\\SB\\Assigment 2\\TFODCourse\\Tensorflow\\workspace\\images\\collectedimages\\fuckyou\\fuckyou.20dce81e-56a4-11ec-a368-98bb1e1d6e16.jpg -> Annotation:D:/FRI/Masters/SB/Assigment 2/TFODCourse/Tensorflow/workspace/images/collectedimages/fuckyou/fuckyou.20dce81e-56a4-11ec-a368-98bb1e1d6e16.xml\n",
      "Image:D:\\FRI\\Masters\\SB\\Assigment 2\\TFODCourse\\Tensorflow\\workspace\\images\\collectedimages\\fuckyou\\fuckyou.38ea673c-56a2-11ec-8701-98bb1e1d6e16.jpg -> Annotation:D:/FRI/Masters/SB/Assigment 2/TFODCourse/Tensorflow/workspace/images/collectedimages/fuckyou/fuckyou.38ea673c-56a2-11ec-8701-98bb1e1d6e16.xml\n",
      "Image:D:\\FRI\\Masters\\SB\\Assigment 2\\TFODCourse\\Tensorflow\\workspace\\images\\collectedimages\\fuckyou\\fuckyou.112db3b7-56a4-11ec-848c-98bb1e1d6e16.jpg -> Annotation:D:/FRI/Masters/SB/Assigment 2/TFODCourse/Tensorflow/workspace/images/collectedimages/fuckyou/fuckyou.112db3b7-56a4-11ec-848c-98bb1e1d6e16.xml\n",
      "Image:D:\\FRI\\Masters\\SB\\Assigment 2\\TFODCourse\\Tensorflow\\workspace\\images\\collectedimages\\fuckyou\\fuckyou.462a197a-56a2-11ec-8b2c-98bb1e1d6e16.jpg -> Annotation:D:/FRI/Masters/SB/Assigment 2/TFODCourse/Tensorflow/workspace/images/collectedimages/fuckyou/fuckyou.462a197a-56a2-11ec-8b2c-98bb1e1d6e16.xml\n",
      "Image:D:\\FRI\\Masters\\SB\\Assigment 2\\TFODCourse\\Tensorflow\\workspace\\images\\collectedimages\\fuckyou\\fuckyou.3004a8df-56a2-11ec-922f-98bb1e1d6e16.jpg -> Annotation:D:/FRI/Masters/SB/Assigment 2/TFODCourse/Tensorflow/workspace/images/collectedimages/fuckyou/fuckyou.3004a8df-56a2-11ec-922f-98bb1e1d6e16.xml\n",
      "Image:D:\\FRI\\Masters\\SB\\Assigment 2\\TFODCourse\\Tensorflow\\workspace\\images\\collectedimages\\fuckyou\\fuckyou.f5fd7764-56a3-11ec-9f60-98bb1e1d6e16.jpg -> Annotation:D:/FRI/Masters/SB/Assigment 2/TFODCourse/Tensorflow/workspace/images/collectedimages/fuckyou/fuckyou.f5fd7764-56a3-11ec-9f60-98bb1e1d6e16.xml\n",
      "Image:D:\\FRI\\Masters\\SB\\Assigment 2\\TFODCourse\\Tensorflow\\workspace\\images\\collectedimages\\fuckyou\\fuckyou.fed1fcff-56a3-11ec-a1b0-98bb1e1d6e16.jpg -> Annotation:D:/FRI/Masters/SB/Assigment 2/TFODCourse/Tensorflow/workspace/images/collectedimages/fuckyou/fuckyou.fed1fcff-56a3-11ec-a1b0-98bb1e1d6e16.xml\n",
      "Image:D:\\FRI\\Masters\\SB\\Assigment 2\\TFODCourse\\Tensorflow\\workspace\\images\\collectedimages\\heart\\heart.0cd267ab-56a2-11ec-9987-98bb1e1d6e16.jpg -> Annotation:D:/FRI/Masters/SB/Assigment 2/TFODCourse/Tensorflow/workspace/images/collectedimages/heart/heart.0cd267ab-56a2-11ec-9987-98bb1e1d6e16.xml\n",
      "Image:D:\\FRI\\Masters\\SB\\Assigment 2\\TFODCourse\\Tensorflow\\workspace\\images\\collectedimages\\heart\\heart.1a8a43fd-56a2-11ec-81af-98bb1e1d6e16.jpg -> Annotation:D:/FRI/Masters/SB/Assigment 2/TFODCourse/Tensorflow/workspace/images/collectedimages/heart/heart.1a8a43fd-56a2-11ec-81af-98bb1e1d6e16.xml\n",
      "Image:D:\\FRI\\Masters\\SB\\Assigment 2\\TFODCourse\\Tensorflow\\workspace\\images\\collectedimages\\heart\\heart.3f17f36a-55f9-11ec-9392-98bb1e1d6e16.jpg -> Annotation:D:/FRI/Masters/SB/Assigment 2/TFODCourse/Tensorflow/workspace/images/collectedimages/heart/heart.3f17f36a-55f9-11ec-9392-98bb1e1d6e16.xml\n",
      "Image:D:\\FRI\\Masters\\SB\\Assigment 2\\TFODCourse\\Tensorflow\\workspace\\images\\collectedimages\\heart\\heart.20c6f46d-56a2-11ec-9f05-98bb1e1d6e16.jpg -> Annotation:D:/FRI/Masters/SB/Assigment 2/TFODCourse/Tensorflow/workspace/images/collectedimages/heart/heart.20c6f46d-56a2-11ec-9f05-98bb1e1d6e16.xml\n",
      "Image:D:\\FRI\\Masters\\SB\\Assigment 2\\TFODCourse\\Tensorflow\\workspace\\images\\collectedimages\\heart\\heart.42bbbe67-55f9-11ec-b467-98bb1e1d6e16.jpg -> Annotation:D:/FRI/Masters/SB/Assigment 2/TFODCourse/Tensorflow/workspace/images/collectedimages/heart/heart.42bbbe67-55f9-11ec-b467-98bb1e1d6e16.xml\n",
      "Image:D:\\FRI\\Masters\\SB\\Assigment 2\\TFODCourse\\Tensorflow\\workspace\\images\\collectedimages\\heart\\heart.43f353af-55f9-11ec-8ff0-98bb1e1d6e16.jpg -> Annotation:D:/FRI/Masters/SB/Assigment 2/TFODCourse/Tensorflow/workspace/images/collectedimages/heart/heart.43f353af-55f9-11ec-8ff0-98bb1e1d6e16.xml\n",
      "Image:D:\\FRI\\Masters\\SB\\Assigment 2\\TFODCourse\\Tensorflow\\workspace\\images\\collectedimages\\heart\\heart.115b92c4-56a2-11ec-8569-98bb1e1d6e16.jpg -> Annotation:D:/FRI/Masters/SB/Assigment 2/TFODCourse/Tensorflow/workspace/images/collectedimages/heart/heart.115b92c4-56a2-11ec-8569-98bb1e1d6e16.xml\n",
      "Image:D:\\FRI\\Masters\\SB\\Assigment 2\\TFODCourse\\Tensorflow\\workspace\\images\\collectedimages\\heart\\heart.266db47d-56a2-11ec-afcc-98bb1e1d6e16.jpg -> Annotation:D:/FRI/Masters/SB/Assigment 2/TFODCourse/Tensorflow/workspace/images/collectedimages/heart/heart.266db47d-56a2-11ec-afcc-98bb1e1d6e16.xml\n",
      "Image:D:\\FRI\\Masters\\SB\\Assigment 2\\TFODCourse\\Tensorflow\\workspace\\images\\collectedimages\\heart\\heart.404e5be5-55f9-11ec-abcc-98bb1e1d6e16.jpg -> Annotation:D:/FRI/Masters/SB/Assigment 2/TFODCourse/Tensorflow/workspace/images/collectedimages/heart/heart.404e5be5-55f9-11ec-abcc-98bb1e1d6e16.xml\n",
      "Image:D:\\FRI\\Masters\\SB\\Assigment 2\\TFODCourse\\Tensorflow\\workspace\\images\\collectedimages\\heart\\heart.15540f16-56a2-11ec-819d-98bb1e1d6e16.jpg -> Annotation:D:/FRI/Masters/SB/Assigment 2/TFODCourse/Tensorflow/workspace/images/collectedimages/heart/heart.15540f16-56a2-11ec-819d-98bb1e1d6e16.xml\n",
      "Image:D:\\FRI\\Masters\\SB\\Assigment 2\\TFODCourse\\Tensorflow\\workspace\\images\\collectedimages\\heart\\heart.4186632f-55f9-11ec-9e51-98bb1e1d6e16.jpg -> Annotation:D:/FRI/Masters/SB/Assigment 2/TFODCourse/Tensorflow/workspace/images/collectedimages/heart/heart.4186632f-55f9-11ec-9e51-98bb1e1d6e16.xml\n",
      "Image:D:\\FRI\\Masters\\SB\\Assigment 2\\TFODCourse\\Tensorflow\\workspace\\images\\collectedimages\\heart\\heart.d4b3b3b5-56a3-11ec-863d-98bb1e1d6e16.jpg -> Annotation:D:/FRI/Masters/SB/Assigment 2/TFODCourse/Tensorflow/workspace/images/collectedimages/heart/heart.d4b3b3b5-56a3-11ec-863d-98bb1e1d6e16.xml\n",
      "Image:D:\\FRI\\Masters\\SB\\Assigment 2\\TFODCourse\\Tensorflow\\workspace\\images\\collectedimages\\heart\\heart.d8e9e289-56a3-11ec-9f6e-98bb1e1d6e16.jpg -> Annotation:D:/FRI/Masters/SB/Assigment 2/TFODCourse/Tensorflow/workspace/images/collectedimages/heart/heart.d8e9e289-56a3-11ec-9f6e-98bb1e1d6e16.xml\n",
      "Image:D:\\FRI\\Masters\\SB\\Assigment 2\\TFODCourse\\Tensorflow\\workspace\\images\\collectedimages\\heart\\heart.dd4634dd-56a3-11ec-beb8-98bb1e1d6e16.jpg -> Annotation:D:/FRI/Masters/SB/Assigment 2/TFODCourse/Tensorflow/workspace/images/collectedimages/heart/heart.dd4634dd-56a3-11ec-beb8-98bb1e1d6e16.xml\n",
      "Image:D:\\FRI\\Masters\\SB\\Assigment 2\\TFODCourse\\Tensorflow\\workspace\\images\\collectedimages\\heart\\heart.e9ef4ddd-56a3-11ec-a99e-98bb1e1d6e16.jpg -> Annotation:D:/FRI/Masters/SB/Assigment 2/TFODCourse/Tensorflow/workspace/images/collectedimages/heart/heart.e9ef4ddd-56a3-11ec-a99e-98bb1e1d6e16.xml\n",
      "Image:D:\\FRI\\Masters\\SB\\Assigment 2\\TFODCourse\\Tensorflow\\workspace\\images\\collectedimages\\heart\\heart.e502a687-56a3-11ec-bc91-98bb1e1d6e16.jpg -> Annotation:D:/FRI/Masters/SB/Assigment 2/TFODCourse/Tensorflow/workspace/images/collectedimages/heart/heart.e502a687-56a3-11ec-bc91-98bb1e1d6e16.xml\n",
      "Image:D:\\FRI\\Masters\\SB\\Assigment 2\\TFODCourse\\Tensorflow\\workspace\\images\\collectedimages\\heart\\heart.ef387770-56a3-11ec-b7f1-98bb1e1d6e16.jpg -> Annotation:D:/FRI/Masters/SB/Assigment 2/TFODCourse/Tensorflow/workspace/images/collectedimages/heart/heart.ef387770-56a3-11ec-b7f1-98bb1e1d6e16.xml\n",
      "Image:D:\\FRI\\Masters\\SB\\Assigment 2\\TFODCourse\\Tensorflow\\workspace\\images\\collectedimages\\thumbsdown\\thumbsdown.34ee3224-55f9-11ec-8452-98bb1e1d6e16.jpg -> Annotation:D:/FRI/Masters/SB/Assigment 2/TFODCourse/Tensorflow/workspace/images/collectedimages/thumbsdown/thumbsdown.34ee3224-55f9-11ec-8452-98bb1e1d6e16.xml\n",
      "Image:D:\\FRI\\Masters\\SB\\Assigment 2\\TFODCourse\\Tensorflow\\workspace\\images\\collectedimages\\thumbsdown\\thumbsdown.39cd58f7-55f9-11ec-9c83-98bb1e1d6e16.jpg -> Annotation:D:/FRI/Masters/SB/Assigment 2/TFODCourse/Tensorflow/workspace/images/collectedimages/thumbsdown/thumbsdown.39cd58f7-55f9-11ec-9c83-98bb1e1d6e16.xml\n",
      "Image:D:\\FRI\\Masters\\SB\\Assigment 2\\TFODCourse\\Tensorflow\\workspace\\images\\collectedimages\\thumbsdown\\thumbsdown.053e06c3-56a2-11ec-9a7b-98bb1e1d6e16.jpg -> Annotation:D:/FRI/Masters/SB/Assigment 2/TFODCourse/Tensorflow/workspace/images/collectedimages/thumbsdown/thumbsdown.053e06c3-56a2-11ec-9a7b-98bb1e1d6e16.xml\n",
      "Image:D:\\FRI\\Masters\\SB\\Assigment 2\\TFODCourse\\Tensorflow\\workspace\\images\\collectedimages\\thumbsdown\\thumbsdown.99f24a1f-56a3-11ec-af61-98bb1e1d6e16.jpg -> Annotation:D:/FRI/Masters/SB/Assigment 2/TFODCourse/Tensorflow/workspace/images/collectedimages/thumbsdown/thumbsdown.99f24a1f-56a3-11ec-af61-98bb1e1d6e16.xml\n",
      "Image:D:\\FRI\\Masters\\SB\\Assigment 2\\TFODCourse\\Tensorflow\\workspace\\images\\collectedimages\\thumbsdown\\thumbsdown.375db3c9-55f9-11ec-8de7-98bb1e1d6e16.jpg -> Annotation:D:/FRI/Masters/SB/Assigment 2/TFODCourse/Tensorflow/workspace/images/collectedimages/thumbsdown/thumbsdown.375db3c9-55f9-11ec-8de7-98bb1e1d6e16.xml\n",
      "Image:D:\\FRI\\Masters\\SB\\Assigment 2\\TFODCourse\\Tensorflow\\workspace\\images\\collectedimages\\thumbsdown\\thumbsdown.3895712d-55f9-11ec-8cb9-98bb1e1d6e16.jpg -> Annotation:D:/FRI/Masters/SB/Assigment 2/TFODCourse/Tensorflow/workspace/images/collectedimages/thumbsdown/thumbsdown.3895712d-55f9-11ec-8cb9-98bb1e1d6e16.xml\n",
      "Image:D:\\FRI\\Masters\\SB\\Assigment 2\\TFODCourse\\Tensorflow\\workspace\\images\\collectedimages\\thumbsdown\\thumbsdown.36251248-55f9-11ec-baa0-98bb1e1d6e16.jpg -> Annotation:D:/FRI/Masters/SB/Assigment 2/TFODCourse/Tensorflow/workspace/images/collectedimages/thumbsdown/thumbsdown.36251248-55f9-11ec-baa0-98bb1e1d6e16.xml\n",
      "Image:D:\\FRI\\Masters\\SB\\Assigment 2\\TFODCourse\\Tensorflow\\workspace\\images\\collectedimages\\thumbsdown\\thumbsdown.a0f73265-56a3-11ec-b109-98bb1e1d6e16.jpg -> Annotation:D:/FRI/Masters/SB/Assigment 2/TFODCourse/Tensorflow/workspace/images/collectedimages/thumbsdown/thumbsdown.a0f73265-56a3-11ec-b109-98bb1e1d6e16.xml\n",
      "Image:D:\\FRI\\Masters\\SB\\Assigment 2\\TFODCourse\\Tensorflow\\workspace\\images\\collectedimages\\thumbsdown\\thumbsdown.a8afd5ad-56a3-11ec-b8d1-98bb1e1d6e16.jpg -> Annotation:D:/FRI/Masters/SB/Assigment 2/TFODCourse/Tensorflow/workspace/images/collectedimages/thumbsdown/thumbsdown.a8afd5ad-56a3-11ec-b8d1-98bb1e1d6e16.xml\n",
      "Image:D:\\FRI\\Masters\\SB\\Assigment 2\\TFODCourse\\Tensorflow\\workspace\\images\\collectedimages\\thumbsdown\\thumbsdown.bc133707-56a3-11ec-9eff-98bb1e1d6e16.jpg -> Annotation:D:/FRI/Masters/SB/Assigment 2/TFODCourse/Tensorflow/workspace/images/collectedimages/thumbsdown/thumbsdown.bc133707-56a3-11ec-9eff-98bb1e1d6e16.xml\n",
      "Image:D:\\FRI\\Masters\\SB\\Assigment 2\\TFODCourse\\Tensorflow\\workspace\\images\\collectedimages\\thumbsdown\\thumbsdown.c2ec6835-56a3-11ec-88d1-98bb1e1d6e16.jpg -> Annotation:D:/FRI/Masters/SB/Assigment 2/TFODCourse/Tensorflow/workspace/images/collectedimages/thumbsdown/thumbsdown.c2ec6835-56a3-11ec-88d1-98bb1e1d6e16.xml\n",
      "Image:D:\\FRI\\Masters\\SB\\Assigment 2\\TFODCourse\\Tensorflow\\workspace\\images\\collectedimages\\thumbsdown\\thumbsdown.cec8a101-56a3-11ec-9f06-98bb1e1d6e16.jpg -> Annotation:D:/FRI/Masters/SB/Assigment 2/TFODCourse/Tensorflow/workspace/images/collectedimages/thumbsdown/thumbsdown.cec8a101-56a3-11ec-9f06-98bb1e1d6e16.xml\n",
      "Image:D:\\FRI\\Masters\\SB\\Assigment 2\\TFODCourse\\Tensorflow\\workspace\\images\\collectedimages\\thumbsdown\\thumbsdown.d97e7c9c-56a1-11ec-a3ec-98bb1e1d6e16.jpg -> Annotation:D:/FRI/Masters/SB/Assigment 2/TFODCourse/Tensorflow/workspace/images/collectedimages/thumbsdown/thumbsdown.d97e7c9c-56a1-11ec-a3ec-98bb1e1d6e16.xml\n",
      "Image:D:\\FRI\\Masters\\SB\\Assigment 2\\TFODCourse\\Tensorflow\\workspace\\images\\collectedimages\\thumbsdown\\thumbsdown.d316697e-56a1-11ec-a768-98bb1e1d6e16.jpg -> Annotation:D:/FRI/Masters/SB/Assigment 2/TFODCourse/Tensorflow/workspace/images/collectedimages/thumbsdown/thumbsdown.d316697e-56a1-11ec-a768-98bb1e1d6e16.xml\n",
      "Image:D:\\FRI\\Masters\\SB\\Assigment 2\\TFODCourse\\Tensorflow\\workspace\\images\\collectedimages\\thumbsdown\\thumbsdown.e302c12b-56a1-11ec-b3fa-98bb1e1d6e16.jpg -> Annotation:D:/FRI/Masters/SB/Assigment 2/TFODCourse/Tensorflow/workspace/images/collectedimages/thumbsdown/thumbsdown.e302c12b-56a1-11ec-b3fa-98bb1e1d6e16.xml\n",
      "Image:D:\\FRI\\Masters\\SB\\Assigment 2\\TFODCourse\\Tensorflow\\workspace\\images\\collectedimages\\thumbsdown\\thumbsdown.eb6d630d-56a1-11ec-8805-98bb1e1d6e16.jpg -> Annotation:D:/FRI/Masters/SB/Assigment 2/TFODCourse/Tensorflow/workspace/images/collectedimages/thumbsdown/thumbsdown.eb6d630d-56a1-11ec-8805-98bb1e1d6e16.xml\n",
      "Image:D:\\FRI\\Masters\\SB\\Assigment 2\\TFODCourse\\Tensorflow\\workspace\\images\\collectedimages\\thumbsdown\\thumbsdown.f819a138-56a1-11ec-b011-98bb1e1d6e16.jpg -> Annotation:D:/FRI/Masters/SB/Assigment 2/TFODCourse/Tensorflow/workspace/images/collectedimages/thumbsdown/thumbsdown.f819a138-56a1-11ec-b011-98bb1e1d6e16.xml\n",
      "Image:D:\\FRI\\Masters\\SB\\Assigment 2\\TFODCourse\\Tensorflow\\workspace\\images\\collectedimages\\thumbsup\\thumbsup.2acb1c79-55f9-11ec-823d-98bb1e1d6e16.jpg -> Annotation:D:/FRI/Masters/SB/Assigment 2/TFODCourse/Tensorflow/workspace/images/collectedimages/thumbsup/thumbsup.2acb1c79-55f9-11ec-823d-98bb1e1d6e16.xml\n",
      "Image:D:\\FRI\\Masters\\SB\\Assigment 2\\TFODCourse\\Tensorflow\\workspace\\images\\collectedimages\\thumbsup\\thumbsup.2c046d03-55f9-11ec-97cf-98bb1e1d6e16.jpg -> Annotation:D:/FRI/Masters/SB/Assigment 2/TFODCourse/Tensorflow/workspace/images/collectedimages/thumbsup/thumbsup.2c046d03-55f9-11ec-97cf-98bb1e1d6e16.xml\n",
      "Image:D:\\FRI\\Masters\\SB\\Assigment 2\\TFODCourse\\Tensorflow\\workspace\\images\\collectedimages\\thumbsup\\thumbsup.2e768345-55f9-11ec-9322-98bb1e1d6e16.jpg -> Annotation:D:/FRI/Masters/SB/Assigment 2/TFODCourse/Tensorflow/workspace/images/collectedimages/thumbsup/thumbsup.2e768345-55f9-11ec-9322-98bb1e1d6e16.xml\n",
      "Image:D:\\FRI\\Masters\\SB\\Assigment 2\\TFODCourse\\Tensorflow\\workspace\\images\\collectedimages\\thumbsup\\thumbsup.5fc34a6a-56a3-11ec-8830-98bb1e1d6e16.jpg -> Annotation:D:/FRI/Masters/SB/Assigment 2/TFODCourse/Tensorflow/workspace/images/collectedimages/thumbsup/thumbsup.5fc34a6a-56a3-11ec-8830-98bb1e1d6e16.xml\n",
      "Image:D:\\FRI\\Masters\\SB\\Assigment 2\\TFODCourse\\Tensorflow\\workspace\\images\\collectedimages\\thumbsup\\thumbsup.7bdce6a6-56a3-11ec-a9c7-98bb1e1d6e16.jpg -> Annotation:D:/FRI/Masters/SB/Assigment 2/TFODCourse/Tensorflow/workspace/images/collectedimages/thumbsup/thumbsup.7bdce6a6-56a3-11ec-a9c7-98bb1e1d6e16.xml\n",
      "Image:D:\\FRI\\Masters\\SB\\Assigment 2\\TFODCourse\\Tensorflow\\workspace\\images\\collectedimages\\thumbsup\\thumbsup.8f9ee22c-56a3-11ec-a783-98bb1e1d6e16.jpg -> Annotation:D:/FRI/Masters/SB/Assigment 2/TFODCourse/Tensorflow/workspace/images/collectedimages/thumbsup/thumbsup.8f9ee22c-56a3-11ec-a783-98bb1e1d6e16.xml\n",
      "Image:D:\\FRI\\Masters\\SB\\Assigment 2\\TFODCourse\\Tensorflow\\workspace\\images\\collectedimages\\thumbsup\\thumbsup.74fdbaaf-56a3-11ec-9873-98bb1e1d6e16.jpg -> Annotation:D:/FRI/Masters/SB/Assigment 2/TFODCourse/Tensorflow/workspace/images/collectedimages/thumbsup/thumbsup.74fdbaaf-56a3-11ec-9873-98bb1e1d6e16.xml\n",
      "Image:D:\\FRI\\Masters\\SB\\Assigment 2\\TFODCourse\\Tensorflow\\workspace\\images\\collectedimages\\thumbsup\\thumbsup.85b554a0-56a3-11ec-8adf-98bb1e1d6e16.jpg -> Annotation:D:/FRI/Masters/SB/Assigment 2/TFODCourse/Tensorflow/workspace/images/collectedimages/thumbsup/thumbsup.85b554a0-56a3-11ec-8adf-98bb1e1d6e16.xml\n",
      "Image:D:\\FRI\\Masters\\SB\\Assigment 2\\TFODCourse\\Tensorflow\\workspace\\images\\collectedimages\\thumbsup\\thumbsup.68157d4d-56a3-11ec-8b7f-98bb1e1d6e16.jpg -> Annotation:D:/FRI/Masters/SB/Assigment 2/TFODCourse/Tensorflow/workspace/images/collectedimages/thumbsup/thumbsup.68157d4d-56a3-11ec-8b7f-98bb1e1d6e16.xml\n",
      "Image:D:\\FRI\\Masters\\SB\\Assigment 2\\TFODCourse\\Tensorflow\\workspace\\images\\collectedimages\\thumbsup\\thumbsup.a2e7b92a-56a1-11ec-8878-98bb1e1d6e16.jpg -> Annotation:D:/FRI/Masters/SB/Assigment 2/TFODCourse/Tensorflow/workspace/images/collectedimages/thumbsup/thumbsup.a2e7b92a-56a1-11ec-8878-98bb1e1d6e16.xml\n",
      "Image:D:\\FRI\\Masters\\SB\\Assigment 2\\TFODCourse\\Tensorflow\\workspace\\images\\collectedimages\\thumbsup\\thumbsup.a82e5e41-56a1-11ec-ae0d-98bb1e1d6e16.jpg -> Annotation:D:/FRI/Masters/SB/Assigment 2/TFODCourse/Tensorflow/workspace/images/collectedimages/thumbsup/thumbsup.a82e5e41-56a1-11ec-ae0d-98bb1e1d6e16.xml\n",
      "Image:D:\\FRI\\Masters\\SB\\Assigment 2\\TFODCourse\\Tensorflow\\workspace\\images\\collectedimages\\thumbsup\\thumbsup.b50bac16-56a1-11ec-ad31-98bb1e1d6e16.jpg -> Annotation:D:/FRI/Masters/SB/Assigment 2/TFODCourse/Tensorflow/workspace/images/collectedimages/thumbsup/thumbsup.b50bac16-56a1-11ec-ad31-98bb1e1d6e16.xml\n",
      "Image:D:\\FRI\\Masters\\SB\\Assigment 2\\TFODCourse\\Tensorflow\\workspace\\images\\collectedimages\\thumbsup\\thumbsup.b0084a8d-56a1-11ec-acf7-98bb1e1d6e16.jpg -> Annotation:D:/FRI/Masters/SB/Assigment 2/TFODCourse/Tensorflow/workspace/images/collectedimages/thumbsup/thumbsup.b0084a8d-56a1-11ec-acf7-98bb1e1d6e16.xml\n",
      "Image:D:\\FRI\\Masters\\SB\\Assigment 2\\TFODCourse\\Tensorflow\\workspace\\images\\collectedimages\\thumbsup\\thumbsup.bf73f8bb-56a1-11ec-a594-98bb1e1d6e16.jpg -> Annotation:D:/FRI/Masters/SB/Assigment 2/TFODCourse/Tensorflow/workspace/images/collectedimages/thumbsup/thumbsup.bf73f8bb-56a1-11ec-a594-98bb1e1d6e16.xml\n",
      "Image:D:\\FRI\\Masters\\SB\\Assigment 2\\TFODCourse\\Tensorflow\\workspace\\images\\collectedimages\\thumbsup\\thumbsup.cca4eb7f-56a1-11ec-8ab7-98bb1e1d6e16.jpg -> Annotation:D:/FRI/Masters/SB/Assigment 2/TFODCourse/Tensorflow/workspace/images/collectedimages/thumbsup/thumbsup.cca4eb7f-56a1-11ec-8ab7-98bb1e1d6e16.xml\n",
      "Image:D:\\FRI\\Masters\\SB\\Assigment 2\\TFODCourse\\Tensorflow\\workspace\\images\\collectedimages\\thumbsup\\thumbsup.dac30c17-55f9-11ec-994b-98bb1e1d6e16.jpg -> Annotation:D:/FRI/Masters/SB/Assigment 2/TFODCourse/Tensorflow/workspace/images/collectedimages/thumbsup/thumbsup.dac30c17-55f9-11ec-994b-98bb1e1d6e16.xml\n",
      "Cancel creation.\n",
      "Image:D:\\FRI\\Masters\\SB\\Assigment 2\\TFODCourse\\Tensorflow\\workspace\\images\\collectedimages\\thumbsup\\thumbsup.f9b1ba17-56a0-11ec-9667-98bb1e1d6e16.jpg -> Annotation:D:/FRI/Masters/SB/Assigment 2/TFODCourse/Tensorflow/workspace/images/collectedimages/thumbsup/thumbsup.f9b1ba17-56a0-11ec-9667-98bb1e1d6e16.xml\n"
     ]
    }
   ],
   "source": [
    "!cd {LABELIMG_PATH} && python labelImg.py"
   ]
  },
  {
   "cell_type": "markdown",
   "metadata": {},
   "source": [
    "# 6. Move them into a Training and Testing Partition"
   ]
  },
  {
   "cell_type": "code",
   "execution_count": 7,
   "metadata": {},
   "outputs": [],
   "source": [
    "TRAIN_PATH = os.path.join('Tensorflow', 'workspace', 'images', 'train')\n",
    "TEST_PATH = os.path.join('Tensorflow', 'workspace', 'images', 'test')"
   ]
  },
  {
   "cell_type": "code",
   "execution_count": 8,
   "metadata": {},
   "outputs": [],
   "source": [
    "import shutil\n",
    "\n",
    "# Number of test images per label\n",
    "num_of_test_img = 3\n",
    "\n",
    "if not os.path.exists(TRAIN_PATH):\n",
    "    !mkdir {TRAIN_PATH}\n",
    "if not os.path.exists(TEST_PATH):\n",
    "    !mkdir {TEST_PATH}\n",
    "\n",
    "for label in labels:\n",
    "    filenames = os.listdir(os.path.join(IMAGES_PATH, label))\n",
    "    for idx, filename in enumerate(filenames):\n",
    "        if idx < len(filenames) - (2 * num_of_test_img):\n",
    "            shutil.copyfile(os.path.join(IMAGES_PATH, label, filename), os.path.join(TRAIN_PATH, filename))\n",
    "        else:\n",
    "            shutil.copyfile(os.path.join(IMAGES_PATH, label, filename), os.path.join(TEST_PATH, filename))\n",
    "                "
   ]
  },
  {
   "cell_type": "markdown",
   "metadata": {},
   "source": [
    "# OPTIONAL - 7. Compress them for Colab Training"
   ]
  },
  {
   "cell_type": "code",
   "execution_count": 20,
   "metadata": {},
   "outputs": [],
   "source": [
    "TRAIN_PATH = os.path.join('Tensorflow', 'workspace', 'images', 'train')\n",
    "TEST_PATH = os.path.join('Tensorflow', 'workspace', 'images', 'test')\n",
    "ARCHIVE_PATH = os.path.join('Tensorflow', 'workspace', 'images', 'archive.tar.gz')"
   ]
  },
  {
   "cell_type": "code",
   "execution_count": 21,
   "metadata": {},
   "outputs": [],
   "source": [
    "!tar -czf {ARCHIVE_PATH} {TRAIN_PATH} {TEST_PATH}"
   ]
  },
  {
   "cell_type": "code",
   "execution_count": null,
   "metadata": {},
   "outputs": [],
   "source": []
  }
 ],
 "metadata": {
  "interpreter": {
   "hash": "c299829523b5075e1369d15adfd06b5162352a19ca30fc0705dbc9cbcc9ba066"
  },
  "kernelspec": {
   "display_name": "tfod",
   "language": "python",
   "name": "python3"
  },
  "language_info": {
   "codemirror_mode": {
    "name": "ipython",
    "version": 3
   },
   "file_extension": ".py",
   "mimetype": "text/x-python",
   "name": "python",
   "nbconvert_exporter": "python",
   "pygments_lexer": "ipython3",
   "version": "3.9.4"
  }
 },
 "nbformat": 4,
 "nbformat_minor": 2
}
